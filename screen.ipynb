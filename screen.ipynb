{
 "cells": [
  {
   "cell_type": "code",
   "execution_count": null,
   "id": "de72306c-8f98-4637-81ca-50155faf1c6c",
   "metadata": {},
   "outputs": [],
   "source": [
    "#pre screen algorithm for IMCI and CI"
   ]
  },
  {
   "cell_type": "code",
   "execution_count": null,
   "id": "27aa8744-01ec-4a98-9d9c-2ee3ecd357e7",
   "metadata": {},
   "outputs": [],
   "source": [
    "%reset"
   ]
  },
  {
   "cell_type": "code",
   "execution_count": 38,
   "id": "22c806a9-6b5e-4668-b88a-735575768650",
   "metadata": {},
   "outputs": [],
   "source": [
    "import os "
   ]
  },
  {
   "cell_type": "code",
   "execution_count": 1,
   "id": "f550965d-938e-4d10-8031-a0c4953ebefe",
   "metadata": {},
   "outputs": [
    {
     "name": "stdout",
     "output_type": "stream",
     "text": [
      "WARNING:tensorflow:From C:\\Users\\xiaoming\\anaconda3\\Lib\\site-packages\\tensorflow\\python\\compat\\v2_compat.py:107: disable_resource_variables (from tensorflow.python.ops.variable_scope) is deprecated and will be removed in a future version.\n",
      "Instructions for updating:\n",
      "non-resource variables are not supported in the long term\n"
     ]
    },
    {
     "name": "stderr",
     "output_type": "stream",
     "text": [
      "C:\\Users\\xiaoming\\anaconda3\\Lib\\site-packages\\tensorflow_addons\\utils\\tfa_eol_msg.py:23: UserWarning: \n",
      "\n",
      "TensorFlow Addons (TFA) has ended development and introduction of new features.\n",
      "TFA has entered a minimal maintenance and release mode until a planned end of life in May 2024.\n",
      "Please modify downstream libraries to take dependencies from other repositories in our TensorFlow community (e.g. Keras, Keras-CV, and Keras-NLP). \n",
      "\n",
      "For more information see: https://github.com/tensorflow/addons/issues/2807 \n",
      "\n",
      "  warnings.warn(\n"
     ]
    }
   ],
   "source": [
    "import os \n",
    "import numpy as np\n",
    "import pandas as pd\n",
    "import math\n",
    "os.chdir('C:\\\\Users\\\\xiaoming\\\\Desktop\\\\makr he\\\\GRWAIN\\\\py_other_methods\\\\GAIN-master')\n",
    "%run -i gain.py\n",
    "%run -i data_loader.py\n",
    "\n",
    "# run notMIWAE\n",
    "os.chdir('C:\\\\Users\\\\xiaoming\\\\Desktop\\\\makr he\\\\GRWAIN\\\\py_other_methods\\\\notMIWAE-master')\n",
    "%run -i notMIWAE.py\n",
    "%run -i trainer.py\n",
    "%run -i runnotMIWAE.py\n",
    "import trainer\n",
    "\n",
    "  #import tensorflow as tf\n",
    "import MIDASpy as md\n",
    "import statistics\n",
    " \n",
    "# mice\n",
    "from sklearn.impute import SimpleImputer\n",
    "from sklearn.experimental import enable_iterative_imputer\n",
    "from sklearn.impute import IterativeImputer\n",
    "from sklearn.ensemble import RandomForestRegressor\n",
    "import scipy.stats.mstats as mstats\n",
    "\n",
    "\n",
    "os.chdir('C:\\\\Users\\\\xiaoming\\\\Desktop\\\\makr he\\\\GRWAIN\\\\py_other_methods\\\\')\n",
    "import argparse\n",
    "%run -i runGain.py    \n",
    "%run -i runMida.py     "
   ]
  },
  {
   "cell_type": "code",
   "execution_count": 2,
   "id": "9c7b014c-fc0d-4855-8447-9cae4f026b0b",
   "metadata": {},
   "outputs": [],
   "source": [
    "# not actually relu! could also be swish, but key is data is not normalized\n",
    "os.chdir('C:\\\\Users\\\\xiaoming\\\\Desktop\\\\makr he\\\\GRWAIN\\\\source_code\\\\run_helpers\\\\')\n",
    "%run -i setup.py\n",
    "#%run -i runGRWAIN.py\n",
    "%run -i runGRWINN.py\n",
    "\n",
    "os.chdir('C:\\\\Users\\\\xiaoming\\\\Desktop\\\\makr he\\\\GRWAIN\\\\source_code')\n",
    "%run -i utilities.py \n",
    "%run -i make_missings.py\n",
    "\n",
    "\n",
    "os.chdir('C:\\\\Users\\\\xiaoming\\\\Desktop\\\\makr he\\\\GRWAIN\\\\source_code\\\\GRWAIN_test')\n",
    "%run -i GRWAIN_3D.py\n",
    "\n",
    "#os.chdir('C:\\\\Users\\\\markh\\\\Dropbox\\\\Columbia\\\\RWI_GAN_NY\\\\Data\\\\real data\\\\mimic-iii-clinical-database-1.4\\\\processed')\n",
    "#os.chdir('C:\\\\Users\\\\markh\\\\Dropbox\\\\Columbia\\\\RWI_GAN_NY\\\\Data\\\\real data\\\\`cleaned_mimic')\n",
    " \n",
    "# mice\n",
    "from sklearn.impute import SimpleImputer\n",
    "from sklearn.experimental import enable_iterative_imputer\n",
    "from sklearn.impute import IterativeImputer\n",
    "from sklearn.ensemble import RandomForestRegressor\n",
    "from scipy.stats import kurtosis, skew\n",
    "#from scipy.stats import RandomForestRegressor"
   ]
  },
  {
   "cell_type": "code",
   "execution_count": null,
   "id": "b2783aa3",
   "metadata": {},
   "outputs": [],
   "source": [
    "from sklearn.linear_model import LogisticRegression     \n",
    "import statsmodels.api as sm\n",
    "\n",
    "# for screen"
   ]
  },
  {
   "cell_type": "code",
   "execution_count": 186,
   "id": "7231ee81-e8e3-48e2-b56b-c995dac72354",
   "metadata": {},
   "outputs": [],
   "source": [
    "os.chdir('C:\\\\Users\\\\xiaoming\\\\Desktop\\\\makr he\\\\GRWAIN\\\\Simulations\\\\CI\\\\Clustered') \n",
    "#os.chdir('C:\\\\Users\\\\markh\\\\Dropbox\\\\Columbia\\\\RWIGAN\\\\WGAN_IQ\\\\Data\\\\Simulations\\\\IM') \n",
    "fnames = ['AllPos1_{:0}.csv'.format(i) for i in range(1, 11)]\n",
    "fnames_true = ['AllPos1_{:0}_True.csv'.format(i) for i in range(1, 11)]"
   ]
  },
  {
   "cell_type": "code",
   "execution_count": null,
   "id": "9db41274",
   "metadata": {},
   "outputs": [],
   "source": [
    "os.chdir('C:\\\\Users\\\\xiaoming\\\\Desktop\\\\makr he\\\\GRWAIN\\\\Simulations\\\\CI\\\\Clustered') \n",
    "#os.chdir('C:\\\\Users\\\\markh\\\\Dropbox\\\\Columbia\\\\RWIGAN\\\\WGAN_IQ\\\\Data\\\\Simulations\\\\IM') \n",
    "fnames = ['PosNeg1_{:0}.csv'.format(i) for i in range(1, 11)]\n",
    "fnames_true = ['PosNeg1_{:0}_True.csv'.format(i) for i in range(1, 11)]"
   ]
  },
  {
   "cell_type": "code",
   "execution_count": 190,
   "id": "a60e6593",
   "metadata": {},
   "outputs": [],
   "source": [
    "os.chdir('C:\\\\Users\\\\xiaoming\\\\Desktop\\\\makr he\\\\GRWAIN\\\\Simulations\\\\IMCI\\\\Clustered') \n",
    "#os.chdir('C:\\\\Users\\\\markh\\\\Dropbox\\\\Columbia\\\\RWIGAN\\\\WGAN_IQ\\\\Data\\\\Simulations\\\\IM') \n",
    "fnames = ['AllPos1_{:0}.csv'.format(i) for i in range(1, 11)]\n",
    "fnames_true = ['AllPos1_{:0}_True.csv'.format(i) for i in range(1, 11)]"
   ]
  },
  {
   "cell_type": "code",
   "execution_count": 198,
   "id": "509c75b8",
   "metadata": {},
   "outputs": [],
   "source": [
    "os.chdir('C:\\\\Users\\\\xiaoming\\\\Desktop\\\\makr he\\\\GRWAIN\\\\Simulations\\\\IMCI\\\\Clustered') \n",
    "\n",
    "fnames = ['PosNeg1_{:0}.csv'.format(i) for i in range(1, 51)]\n",
    "fnames_true = ['PosNeg1_{:0}_True.csv'.format(i) for i in range(1, 51)]"
   ]
  },
  {
   "cell_type": "markdown",
   "id": "6b6de55b-4dc1-4404-8a19-1c244627f8dd",
   "metadata": {},
   "source": [
    "function to generate missing, depepndent on log of the (normalized) data "
   ]
  },
  {
   "cell_type": "markdown",
   "id": "bf0c6ecc-66d4-4fb3-aad1-4a21cfe646ac",
   "metadata": {},
   "source": [
    "can also try on other datasets"
   ]
  },
  {
   "cell_type": "code",
   "execution_count": 4,
   "id": "58ef640f-f3a9-4963-a721-ec652d48fb8a",
   "metadata": {},
   "outputs": [],
   "source": [
    "def mae (imp, X_n):\n",
    "    Msg = 1 - np.isnan(X_n)\n",
    "    return   np.nanmean( (imp * Msg - X_n*Msg)**2) "
   ]
  },
  {
   "cell_type": "code",
   "execution_count": 7,
   "id": "c0521d2c",
   "metadata": {},
   "outputs": [],
   "source": [
    "def mae50 (imp, X_n):\n",
    "    Msg = 1 - np.isnan(X_n)\n",
    "    return   np.nanmean( (imp [:,50:100]* Msg[:,50:100] - X_n[:,50:100]*Msg[:,50:100])**2) "
   ]
  },
  {
   "cell_type": "code",
   "execution_count": 199,
   "id": "566f3a44",
   "metadata": {},
   "outputs": [],
   "source": [
    "L=10"
   ]
  },
  {
   "cell_type": "code",
   "execution_count": 181,
   "id": "ef7847ec",
   "metadata": {},
   "outputs": [],
   "source": [
    "def screen (X):\n",
    "    direction = np.ones(100)\n",
    "    min_level = np.zeros(100)\n",
    "    max_level = np.ones(100)\n",
    "    \n",
    "    for j in range(0, 19):\n",
    "        y_pos = j * 5 + 4\n",
    "        Y = X[:, y_pos]\n",
    "        naY = 1 * np.isnan(Y)\n",
    "        \n",
    "        removena_X = X[:, j * 5 :(j * 5 + 4)]\n",
    "        \n",
    "        sm_model = sm.GLM(naY, sm.add_constant(removena_X), family=sm.families.Binomial())\n",
    "        \n",
    "        sm_result = sm_model.fit()\n",
    "        coef = sm_result.params\n",
    "        pvalue = sm_result.pvalues\n",
    "        \n",
    "        sign = np.sign(coef[pvalue<0.05])\n",
    "        \n",
    "        if sum(sign) > 0:\n",
    "            Y = Y * -1\n",
    "\n",
    "            direction[j * 5 + 4] = -1\n",
    "            min_level[j * 5 + 4] = np.nanmin(Y)\n",
    "            max_level[j * 5 + 4] = np.nanmax(Y)\n",
    "            YY = (Y - np.nanmin(Y)) / (np.nanmax(Y) - np.nanmin(Y))\n",
    "            X[:, y_pos] = YY\n",
    "        \n",
    "        \n",
    "        norm_parameters = {'min_val': min_level,\n",
    "                       'max_val': max_level}\n",
    "    return X, direction, norm_parameters"
   ]
  },
  {
   "cell_type": "code",
   "execution_count": 134,
   "id": "071267d3",
   "metadata": {},
   "outputs": [],
   "source": [
    "def rescreen (X, direction, norm_parameters):\n",
    "    _, dim = X.shape\n",
    "    min_val = norm_parameters['min_val']\n",
    "    max_val = norm_parameters['max_val']\n",
    "    for i in range(dim):\n",
    "        X[:, i] = (max_val[i] - min_val[i]) * X[:, i] + min_val[i]\n",
    "    X = X * direction\n",
    "    return X"
   ]
  },
  {
   "cell_type": "markdown",
   "id": "c13936e6-7ca3-4099-ba28-44ab0a63402b",
   "metadata": {},
   "source": [
    "can also try on other datasets"
   ]
  },
  {
   "cell_type": "markdown",
   "id": "e1f3585f",
   "metadata": {},
   "source": [
    "L=1"
   ]
  },
  {
   "cell_type": "code",
   "execution_count": 203,
   "id": "6139fedb-2f3c-4a91-a835-34b8822013f8",
   "metadata": {},
   "outputs": [],
   "source": [
    "# normalized\n",
    "nGAIN_error = [0]*L\n",
    "nWRINN_error = [0]*L\n",
    "nnMIWAE_error = [0]*L\n",
    "nmida_error = [0]*L\n",
    "nmean_error = [0]*L\n",
    "nmice_error = [0]*L"
   ]
  },
  {
   "cell_type": "code",
   "execution_count": 201,
   "id": "54f3c566-0a17-4420-abf0-a439ae6d5255",
   "metadata": {
    "scrolled": true
   },
   "outputs": [
    {
     "name": "stderr",
     "output_type": "stream",
     "text": [
      "100%|██████████| 299/299 [00:08<00:00, 34.78it/s]\n",
      "100%|██████████| 500/500 [00:01<00:00, 297.27it/s]\n",
      "C:\\Users\\xiaoming\\Desktop\\makr he\\GRWAIN\\py_other_methods\\notMIWAE-master\\runnotMIWAE.py:65: DeprecationWarning: `np.float` is a deprecated alias for the builtin `float`. To silence this warning, use `float` by itself. Doing this will not modify any behavior and is safe. If you specifically wanted the numpy scalar type, use `np.float64` here.\n",
      "Deprecated in NumPy 1.20; for more details and guidance: https://numpy.org/devdocs/release/1.20.0-notes.html#deprecations\n",
      "  S = np.array(~np.isnan(data_x), dtype=np.float)\n"
     ]
    },
    {
     "name": "stdout",
     "output_type": "stream",
     "text": [
      "Creating graph...\n",
      "Saving session...\n",
      "Saving session...\n",
      "0/100 updates, 0.21 s, 134.34 train_loss, 134.77 val_loss\n",
      "0 / 300\n",
      "Size index: [100]\n",
      "\n",
      "Computation graph constructed\n",
      "\n",
      "Model initialised\n",
      "\n",
      "Epoch: 0 , loss: 26.669149080912273\n",
      "Epoch: 1 , loss: 25.64904742770725\n",
      "Epoch: 2 , loss: 24.97550943162706\n",
      "Epoch: 3 , loss: 24.361718283759224\n",
      "Epoch: 4 , loss: 23.669435183207195\n",
      "Epoch: 5 , loss: 22.95769034491645\n",
      "Epoch: 6 , loss: 22.11643886566162\n",
      "Epoch: 7 , loss: 20.748211012946236\n",
      "Epoch: 8 , loss: 19.441454145643448\n",
      "Epoch: 9 , loss: 18.190873463948567\n",
      "Training complete. Saving file...\n",
      "Model saved in file: tmp/MIDAS\n",
      "INFO:tensorflow:Restoring parameters from tmp/MIDAS\n",
      "Model restored.\n"
     ]
    },
    {
     "name": "stderr",
     "output_type": "stream",
     "text": [
      "100%|██████████| 299/299 [00:08<00:00, 33.70it/s]\n",
      "100%|██████████| 500/500 [00:01<00:00, 296.78it/s]\n",
      "C:\\Users\\xiaoming\\Desktop\\makr he\\GRWAIN\\py_other_methods\\notMIWAE-master\\runnotMIWAE.py:65: DeprecationWarning: `np.float` is a deprecated alias for the builtin `float`. To silence this warning, use `float` by itself. Doing this will not modify any behavior and is safe. If you specifically wanted the numpy scalar type, use `np.float64` here.\n",
      "Deprecated in NumPy 1.20; for more details and guidance: https://numpy.org/devdocs/release/1.20.0-notes.html#deprecations\n",
      "  S = np.array(~np.isnan(data_x), dtype=np.float)\n"
     ]
    },
    {
     "name": "stdout",
     "output_type": "stream",
     "text": [
      "Creating graph...\n",
      "Saving session...\n",
      "Saving session...\n",
      "0/100 updates, 0.22 s, 135.43 train_loss, 135.30 val_loss\n",
      "0 / 300\n",
      "Size index: [100]\n",
      "\n",
      "Computation graph constructed\n",
      "\n",
      "Model initialised\n",
      "\n",
      "Epoch: 0 , loss: 27.294283443027073\n",
      "Epoch: 1 , loss: 26.245013660854763\n",
      "Epoch: 2 , loss: 25.633485476175945\n",
      "Epoch: 3 , loss: 25.021491368611652\n",
      "Epoch: 4 , loss: 24.245861795213486\n",
      "Epoch: 5 , loss: 23.565059026082356\n",
      "Epoch: 6 , loss: 22.618156750996906\n",
      "Epoch: 7 , loss: 21.052754084269207\n",
      "Epoch: 8 , loss: 19.638642734951443\n",
      "Epoch: 9 , loss: 18.423510975307888\n",
      "Training complete. Saving file...\n",
      "Model saved in file: tmp/MIDAS\n",
      "INFO:tensorflow:Restoring parameters from tmp/MIDAS\n",
      "Model restored.\n"
     ]
    },
    {
     "name": "stderr",
     "output_type": "stream",
     "text": [
      "100%|██████████| 299/299 [00:08<00:00, 34.32it/s]\n",
      "100%|██████████| 500/500 [00:01<00:00, 300.69it/s]\n",
      "C:\\Users\\xiaoming\\Desktop\\makr he\\GRWAIN\\py_other_methods\\notMIWAE-master\\runnotMIWAE.py:65: DeprecationWarning: `np.float` is a deprecated alias for the builtin `float`. To silence this warning, use `float` by itself. Doing this will not modify any behavior and is safe. If you specifically wanted the numpy scalar type, use `np.float64` here.\n",
      "Deprecated in NumPy 1.20; for more details and guidance: https://numpy.org/devdocs/release/1.20.0-notes.html#deprecations\n",
      "  S = np.array(~np.isnan(data_x), dtype=np.float)\n"
     ]
    },
    {
     "name": "stdout",
     "output_type": "stream",
     "text": [
      "Creating graph...\n",
      "Saving session...\n",
      "Saving session...\n",
      "0/100 updates, 0.19 s, 136.82 train_loss, 135.70 val_loss\n",
      "0 / 300\n",
      "Size index: [100]\n",
      "\n",
      "Computation graph constructed\n",
      "\n",
      "Model initialised\n",
      "\n",
      "Epoch: 0 , loss: 26.703054640028213\n",
      "Epoch: 1 , loss: 25.791345490349663\n",
      "Epoch: 2 , loss: 25.09583928849962\n",
      "Epoch: 3 , loss: 24.52824550204807\n",
      "Epoch: 4 , loss: 23.828189637925888\n",
      "Epoch: 5 , loss: 23.12771595848931\n",
      "Epoch: 6 , loss: 22.363932291666668\n",
      "Epoch: 7 , loss: 20.917880376180012\n",
      "Epoch: 8 , loss: 19.68225712246365\n",
      "Epoch: 9 , loss: 18.393367343478733\n",
      "Training complete. Saving file...\n",
      "Model saved in file: tmp/MIDAS\n",
      "INFO:tensorflow:Restoring parameters from tmp/MIDAS\n",
      "Model restored.\n"
     ]
    },
    {
     "name": "stderr",
     "output_type": "stream",
     "text": [
      "100%|██████████| 299/299 [00:07<00:00, 37.40it/s]\n",
      "100%|██████████| 500/500 [00:01<00:00, 290.29it/s]\n",
      "C:\\Users\\xiaoming\\Desktop\\makr he\\GRWAIN\\py_other_methods\\notMIWAE-master\\runnotMIWAE.py:65: DeprecationWarning: `np.float` is a deprecated alias for the builtin `float`. To silence this warning, use `float` by itself. Doing this will not modify any behavior and is safe. If you specifically wanted the numpy scalar type, use `np.float64` here.\n",
      "Deprecated in NumPy 1.20; for more details and guidance: https://numpy.org/devdocs/release/1.20.0-notes.html#deprecations\n",
      "  S = np.array(~np.isnan(data_x), dtype=np.float)\n"
     ]
    },
    {
     "name": "stdout",
     "output_type": "stream",
     "text": [
      "Creating graph...\n",
      "Saving session...\n",
      "Saving session...\n",
      "0/100 updates, 0.20 s, 134.91 train_loss, 134.40 val_loss\n",
      "0 / 300\n",
      "Size index: [100]\n",
      "\n",
      "Computation graph constructed\n",
      "\n",
      "Model initialised\n",
      "\n",
      "Epoch: 0 , loss: 26.469981617397732\n",
      "Epoch: 1 , loss: 25.438558684455025\n",
      "Epoch: 2 , loss: 24.711729367574055\n",
      "Epoch: 3 , loss: 24.10997994740804\n",
      "Epoch: 4 , loss: 23.488521681891548\n",
      "Epoch: 5 , loss: 22.75501759847005\n",
      "Epoch: 6 , loss: 21.82062096065945\n",
      "Epoch: 7 , loss: 20.34606319003635\n",
      "Epoch: 8 , loss: 19.1238218943278\n",
      "Epoch: 9 , loss: 17.87286641862657\n",
      "Training complete. Saving file...\n",
      "Model saved in file: tmp/MIDAS\n",
      "INFO:tensorflow:Restoring parameters from tmp/MIDAS\n",
      "Model restored.\n"
     ]
    },
    {
     "name": "stderr",
     "output_type": "stream",
     "text": [
      "100%|██████████| 299/299 [00:08<00:00, 34.99it/s]\n",
      "100%|██████████| 500/500 [00:01<00:00, 253.09it/s]\n",
      "C:\\Users\\xiaoming\\Desktop\\makr he\\GRWAIN\\py_other_methods\\notMIWAE-master\\runnotMIWAE.py:65: DeprecationWarning: `np.float` is a deprecated alias for the builtin `float`. To silence this warning, use `float` by itself. Doing this will not modify any behavior and is safe. If you specifically wanted the numpy scalar type, use `np.float64` here.\n",
      "Deprecated in NumPy 1.20; for more details and guidance: https://numpy.org/devdocs/release/1.20.0-notes.html#deprecations\n",
      "  S = np.array(~np.isnan(data_x), dtype=np.float)\n"
     ]
    },
    {
     "name": "stdout",
     "output_type": "stream",
     "text": [
      "Creating graph...\n",
      "Saving session...\n",
      "Saving session...\n",
      "0/100 updates, 0.23 s, 135.58 train_loss, 136.03 val_loss\n",
      "0 / 300\n",
      "Size index: [100]\n",
      "\n",
      "Computation graph constructed\n",
      "\n",
      "Model initialised\n",
      "\n",
      "Epoch: 0 , loss: 26.922924571567112\n",
      "Epoch: 1 , loss: 25.944671630859375\n",
      "Epoch: 2 , loss: 25.303104294670952\n",
      "Epoch: 3 , loss: 24.593854268391926\n",
      "Epoch: 4 , loss: 24.018741395738388\n",
      "Epoch: 5 , loss: 23.219636811150444\n",
      "Epoch: 6 , loss: 22.342668109469944\n",
      "Epoch: 7 , loss: 20.81057749854194\n",
      "Epoch: 8 , loss: 19.612019750807022\n",
      "Epoch: 9 , loss: 18.245261934068466\n",
      "Training complete. Saving file...\n",
      "Model saved in file: tmp/MIDAS\n",
      "INFO:tensorflow:Restoring parameters from tmp/MIDAS\n",
      "Model restored.\n"
     ]
    },
    {
     "name": "stderr",
     "output_type": "stream",
     "text": [
      "100%|██████████| 299/299 [00:08<00:00, 35.37it/s]\n",
      "100%|██████████| 500/500 [00:01<00:00, 278.74it/s]\n",
      "C:\\Users\\xiaoming\\Desktop\\makr he\\GRWAIN\\py_other_methods\\notMIWAE-master\\runnotMIWAE.py:65: DeprecationWarning: `np.float` is a deprecated alias for the builtin `float`. To silence this warning, use `float` by itself. Doing this will not modify any behavior and is safe. If you specifically wanted the numpy scalar type, use `np.float64` here.\n",
      "Deprecated in NumPy 1.20; for more details and guidance: https://numpy.org/devdocs/release/1.20.0-notes.html#deprecations\n",
      "  S = np.array(~np.isnan(data_x), dtype=np.float)\n"
     ]
    },
    {
     "name": "stdout",
     "output_type": "stream",
     "text": [
      "Creating graph...\n",
      "Saving session...\n",
      "Saving session...\n",
      "0/100 updates, 0.21 s, 136.70 train_loss, 135.43 val_loss\n",
      "0 / 300\n",
      "Size index: [100]\n",
      "\n",
      "Computation graph constructed\n",
      "\n",
      "Model initialised\n",
      "\n",
      "Epoch: 0 , loss: 27.054663976033527\n",
      "Epoch: 1 , loss: 26.243456840515137\n",
      "Epoch: 2 , loss: 25.523115158081055\n",
      "Epoch: 3 , loss: 24.88662518395318\n",
      "Epoch: 4 , loss: 24.173442946539986\n",
      "Epoch: 5 , loss: 23.42182403140598\n",
      "Epoch: 6 , loss: 22.459702915615505\n",
      "Epoch: 7 , loss: 20.859259817335342\n",
      "Epoch: 8 , loss: 19.58148871527778\n",
      "Epoch: 9 , loss: 18.370519744025337\n",
      "Training complete. Saving file...\n",
      "Model saved in file: tmp/MIDAS\n",
      "INFO:tensorflow:Restoring parameters from tmp/MIDAS\n",
      "Model restored.\n"
     ]
    },
    {
     "name": "stderr",
     "output_type": "stream",
     "text": [
      "100%|██████████| 299/299 [00:08<00:00, 34.61it/s]\n",
      "100%|██████████| 500/500 [00:01<00:00, 284.43it/s]\n",
      "C:\\Users\\xiaoming\\Desktop\\makr he\\GRWAIN\\py_other_methods\\notMIWAE-master\\runnotMIWAE.py:65: DeprecationWarning: `np.float` is a deprecated alias for the builtin `float`. To silence this warning, use `float` by itself. Doing this will not modify any behavior and is safe. If you specifically wanted the numpy scalar type, use `np.float64` here.\n",
      "Deprecated in NumPy 1.20; for more details and guidance: https://numpy.org/devdocs/release/1.20.0-notes.html#deprecations\n",
      "  S = np.array(~np.isnan(data_x), dtype=np.float)\n"
     ]
    },
    {
     "name": "stdout",
     "output_type": "stream",
     "text": [
      "Creating graph...\n",
      "Saving session...\n",
      "Saving session...\n",
      "0/100 updates, 0.21 s, 135.96 train_loss, 135.88 val_loss\n",
      "0 / 300\n",
      "Size index: [100]\n",
      "\n",
      "Computation graph constructed\n",
      "\n",
      "Model initialised\n",
      "\n",
      "Epoch: 0 , loss: 27.23040919833713\n",
      "Epoch: 1 , loss: 26.298425674438477\n",
      "Epoch: 2 , loss: 25.650070508321125\n",
      "Epoch: 3 , loss: 24.993421766493057\n",
      "Epoch: 4 , loss: 24.288194126553005\n",
      "Epoch: 5 , loss: 23.5509033203125\n",
      "Epoch: 6 , loss: 22.70875400967068\n",
      "Epoch: 7 , loss: 21.264167149861652\n",
      "Epoch: 8 , loss: 19.904640091790093\n",
      "Epoch: 9 , loss: 18.749595748053657\n",
      "Training complete. Saving file...\n",
      "Model saved in file: tmp/MIDAS\n",
      "INFO:tensorflow:Restoring parameters from tmp/MIDAS\n",
      "Model restored.\n"
     ]
    },
    {
     "name": "stderr",
     "output_type": "stream",
     "text": [
      "100%|██████████| 299/299 [00:08<00:00, 34.58it/s]\n",
      "100%|██████████| 500/500 [00:01<00:00, 293.80it/s]\n",
      "C:\\Users\\xiaoming\\Desktop\\makr he\\GRWAIN\\py_other_methods\\notMIWAE-master\\runnotMIWAE.py:65: DeprecationWarning: `np.float` is a deprecated alias for the builtin `float`. To silence this warning, use `float` by itself. Doing this will not modify any behavior and is safe. If you specifically wanted the numpy scalar type, use `np.float64` here.\n",
      "Deprecated in NumPy 1.20; for more details and guidance: https://numpy.org/devdocs/release/1.20.0-notes.html#deprecations\n",
      "  S = np.array(~np.isnan(data_x), dtype=np.float)\n"
     ]
    },
    {
     "name": "stdout",
     "output_type": "stream",
     "text": [
      "Creating graph...\n",
      "Saving session...\n",
      "Saving session...\n",
      "0/100 updates, 0.22 s, 135.82 train_loss, 134.53 val_loss\n",
      "0 / 300\n",
      "Size index: [100]\n",
      "\n",
      "Computation graph constructed\n",
      "\n",
      "Model initialised\n",
      "\n",
      "Epoch: 0 , loss: 26.314561737908257\n",
      "Epoch: 1 , loss: 25.455685509575737\n",
      "Epoch: 2 , loss: 24.732892672220867\n",
      "Epoch: 3 , loss: 24.12605921427409\n",
      "Epoch: 4 , loss: 23.45634587605794\n",
      "Epoch: 5 , loss: 22.69744618733724\n",
      "Epoch: 6 , loss: 21.930892944335938\n",
      "Epoch: 7 , loss: 20.49962838490804\n",
      "Epoch: 8 , loss: 19.28518549601237\n",
      "Epoch: 9 , loss: 18.07170624203152\n",
      "Training complete. Saving file...\n",
      "Model saved in file: tmp/MIDAS\n",
      "INFO:tensorflow:Restoring parameters from tmp/MIDAS\n",
      "Model restored.\n"
     ]
    },
    {
     "name": "stderr",
     "output_type": "stream",
     "text": [
      "100%|██████████| 299/299 [00:08<00:00, 35.38it/s]\n",
      "100%|██████████| 500/500 [00:01<00:00, 297.50it/s]\n",
      "C:\\Users\\xiaoming\\Desktop\\makr he\\GRWAIN\\py_other_methods\\notMIWAE-master\\runnotMIWAE.py:65: DeprecationWarning: `np.float` is a deprecated alias for the builtin `float`. To silence this warning, use `float` by itself. Doing this will not modify any behavior and is safe. If you specifically wanted the numpy scalar type, use `np.float64` here.\n",
      "Deprecated in NumPy 1.20; for more details and guidance: https://numpy.org/devdocs/release/1.20.0-notes.html#deprecations\n",
      "  S = np.array(~np.isnan(data_x), dtype=np.float)\n"
     ]
    },
    {
     "name": "stdout",
     "output_type": "stream",
     "text": [
      "Creating graph...\n",
      "Saving session...\n",
      "Saving session...\n",
      "0/100 updates, 0.19 s, 134.57 train_loss, 135.61 val_loss\n",
      "0 / 300\n",
      "Size index: [100]\n",
      "\n",
      "Computation graph constructed\n",
      "\n",
      "Model initialised\n",
      "\n",
      "Epoch: 0 , loss: 26.64595392015245\n",
      "Epoch: 1 , loss: 25.677718268500435\n",
      "Epoch: 2 , loss: 24.958201196458603\n",
      "Epoch: 3 , loss: 24.422622786627876\n",
      "Epoch: 4 , loss: 23.67497793833415\n",
      "Epoch: 5 , loss: 22.9613774617513\n",
      "Epoch: 6 , loss: 22.191419389512802\n",
      "Epoch: 7 , loss: 20.660413212246365\n",
      "Epoch: 8 , loss: 19.485988510979546\n",
      "Epoch: 9 , loss: 18.236157417297363\n",
      "Training complete. Saving file...\n",
      "Model saved in file: tmp/MIDAS\n",
      "INFO:tensorflow:Restoring parameters from tmp/MIDAS\n",
      "Model restored.\n"
     ]
    },
    {
     "name": "stderr",
     "output_type": "stream",
     "text": [
      "100%|██████████| 299/299 [00:08<00:00, 37.23it/s]\n",
      "100%|██████████| 500/500 [00:01<00:00, 297.22it/s]\n",
      "C:\\Users\\xiaoming\\Desktop\\makr he\\GRWAIN\\py_other_methods\\notMIWAE-master\\runnotMIWAE.py:65: DeprecationWarning: `np.float` is a deprecated alias for the builtin `float`. To silence this warning, use `float` by itself. Doing this will not modify any behavior and is safe. If you specifically wanted the numpy scalar type, use `np.float64` here.\n",
      "Deprecated in NumPy 1.20; for more details and guidance: https://numpy.org/devdocs/release/1.20.0-notes.html#deprecations\n",
      "  S = np.array(~np.isnan(data_x), dtype=np.float)\n"
     ]
    },
    {
     "name": "stdout",
     "output_type": "stream",
     "text": [
      "Creating graph...\n",
      "Saving session...\n",
      "Saving session...\n",
      "0/100 updates, 0.19 s, 134.81 train_loss, 135.32 val_loss\n",
      "0 / 300\n",
      "Size index: [100]\n",
      "\n",
      "Computation graph constructed\n",
      "\n",
      "Model initialised\n",
      "\n",
      "Epoch: 0 , loss: 27.40649202134874\n",
      "Epoch: 1 , loss: 26.444029384189182\n",
      "Epoch: 2 , loss: 25.782706790500217\n",
      "Epoch: 3 , loss: 25.099117914835613\n",
      "Epoch: 4 , loss: 24.423846774631077\n",
      "Epoch: 5 , loss: 23.639454947577583\n",
      "Epoch: 6 , loss: 22.708307372199165\n",
      "Epoch: 7 , loss: 21.095844798617893\n",
      "Epoch: 8 , loss: 19.805599212646484\n",
      "Epoch: 9 , loss: 18.493789037068684\n",
      "Training complete. Saving file...\n",
      "Model saved in file: tmp/MIDAS\n",
      "INFO:tensorflow:Restoring parameters from tmp/MIDAS\n",
      "Model restored.\n"
     ]
    }
   ],
   "source": [
    "# GRIN and \n",
    "for k in range(0,L):    \n",
    "    #Xna = make_missing_halfIM80 (X_skew)\n",
    "    Xna = (np.array(pd.read_csv(fnames[k], header = None)))\n",
    "    X_tru = (np.array(pd.read_csv(fnames_true[k], header = None)))\n",
    "    Xna[Xna== -99] = np.nan\n",
    "    \n",
    "    Xna1, direction, nask_param1 = screen(Xna)\n",
    "    \n",
    "    Xnna, nask_param = normalization(Xna)\n",
    "    ## for other methods\n",
    "    \n",
    "    \n",
    "    Xnna1, nask_param1_1 = normalization(Xna1)\n",
    "    \n",
    "    Mask = 1 - np.isnan(Xna)\n",
    "    G_impu = GRWAIN  (Xnna1.copy(), Mask,{'batch_size': round( np.shape(Xnna1)[0]/4),  \n",
    "                                    'iterations':300}, 100)\n",
    "    xhat_record = G_impu[1]\n",
    "    GRIN_fit = np.mean(xhat_record, axis=0)\n",
    "    #GRIN_fit = (np.mean(xhat_record, axis=0) +  GRWINN_impu[0])/2\n",
    "    \n",
    "    Imp = IterativeImputer(max_iter=15, random_state=0)    \n",
    "    Imp.fit( Xna )\n",
    "    mice_impu = Imp.transform( Xna )\n",
    "    mean_imp = SimpleImputer(missing_values=np.nan, strategy='mean')\n",
    "    mean_imp.fit(Xna)\n",
    "    mean_impu = mean_imp.transform( Xna)\n",
    "\n",
    "    Gain_fit = (runGain_direct ( Xna ,  round( np.shape(Xna)[0]/4), 100, 500 ) ) # 2 = batchsize, 3 =alpha\n",
    "    nMiwae_fit = run_notMIWAE(    Xna ,n_hidden=8)   \n",
    "    MIDA_fit =  runMida_direct (   Xnna )  \n",
    "     \n",
    "    nWRINN_error[k] =mae(  rescreen(renormalization( GRIN_fit, nask_param1_1),direction, nask_param1)   ,X_tru) \n",
    "    nGAIN_error[k] = mae(  Gain_fit , X_tru)     \n",
    "    nnMIWAE_error[k]= mae( nMiwae_fit , X_tru)\n",
    "    nmida_error[k] = mae(  renormalization( MIDA_fit ,nask_param )  , X_tru)\n",
    "    nmice_error[k] = mae(mice_impu , X_tru)\n",
    "    nmean_error[k] = mae( mean_impu   ,X_tru)"
   ]
  },
  {
   "cell_type": "code",
   "execution_count": 182,
   "id": "5d78c5c4-9487-4180-a2b5-5d683e3c8cee",
   "metadata": {},
   "outputs": [],
   "source": []
  },
  {
   "cell_type": "code",
   "execution_count": 189,
   "id": "e1a8227e",
   "metadata": {},
   "outputs": [
    {
     "data": {
      "image/png": "[encoded data removed]",
      "text/plain": [
       "<Figure size 500x400 with 1 Axes>"
      ]
     },
     "metadata": {},
     "output_type": "display_data"
    }
   ],
   "source": [
    "# CI all pos with screen 9.27\n",
    "nErrors = [np.sqrt(nWRINN_error) , np.sqrt(nGAIN_error) , \n",
    "             np.sqrt(nnMIWAE_error),\n",
    "           np.sqrt(nmida_error) ,# np.sqrt(nmean_error) ,\n",
    "           np.sqrt(nmice_error)] \n",
    "\n",
    "#set.ylim(0, .005)   \n",
    "fig = plt.figure (figsize = (5,4))\n",
    "ax = fig.add_axes([0, 0, 1, 1])\n",
    " \n",
    "bp = ax.boxplot(nErrors)\n",
    "ax.set_xticklabels(['GRWINN', 'GAIN', 'not-MIWAE', \n",
    "                    'MIDA', #'mean',\n",
    "                    'MICE'])     \n",
    "# show plot\n",
    "plt.show()"
   ]
  },
  {
   "cell_type": "code",
   "execution_count": 185,
   "id": "75997524",
   "metadata": {},
   "outputs": [
    {
     "data": {
      "image/png": "[encoded data removed]",
      "text/plain": [
       "<Figure size 500x400 with 1 Axes>"
      ]
     },
     "metadata": {},
     "output_type": "display_data"
    }
   ],
   "source": [
    "# CI posneg with screen 9.27\n",
    "nErrors = [np.sqrt(nWRINN_error) , np.sqrt(nGAIN_error) , \n",
    "             np.sqrt(nnMIWAE_error),\n",
    "           np.sqrt(nmida_error) ,# np.sqrt(nmean_error) ,\n",
    "           np.sqrt(nmice_error)] \n",
    "\n",
    "#set.ylim(0, .005)   \n",
    "fig = plt.figure (figsize = (5,4))\n",
    "ax = fig.add_axes([0, 0, 1, 1])\n",
    " \n",
    "bp = ax.boxplot(nErrors)\n",
    "ax.set_xticklabels(['GRWINN', 'GAIN', 'not-MIWAE', \n",
    "                    'MIDA', #'mean',\n",
    "                    'MICE'])     \n",
    "# show plot\n",
    "plt.show()"
   ]
  },
  {
   "cell_type": "code",
   "execution_count": 194,
   "id": "36f09daf",
   "metadata": {},
   "outputs": [
    {
     "data": {
      "image/png": "[encoded data removed]",
      "text/plain": [
       "<Figure size 500x400 with 1 Axes>"
      ]
     },
     "metadata": {},
     "output_type": "display_data"
    }
   ],
   "source": [
    "# IMCI all pos with screen 9.27\n",
    "nErrors = [np.sqrt(nWRINN_error) , np.sqrt(nGAIN_error) , \n",
    "             np.sqrt(nnMIWAE_error),\n",
    "           np.sqrt(nmida_error) ,# np.sqrt(nmean_error) ,\n",
    "           np.sqrt(nmice_error)] \n",
    "\n",
    "#set.ylim(0, .005)   \n",
    "fig = plt.figure (figsize = (5,4))\n",
    "ax = fig.add_axes([0, 0, 1, 1])\n",
    " \n",
    "bp = ax.boxplot(nErrors)\n",
    "ax.set_xticklabels(['GRWINN', 'GAIN', 'not-MIWAE', \n",
    "                    'MIDA', #'mean',\n",
    "                    'MICE'])     \n",
    "# show plot\n",
    "plt.show()"
   ]
  },
  {
   "cell_type": "code",
   "execution_count": 202,
   "id": "689ece1a",
   "metadata": {},
   "outputs": [
    {
     "data": {
      "image/png": "[encoded data removed]",
      "text/plain": [
       "<Figure size 500x400 with 1 Axes>"
      ]
     },
     "metadata": {},
     "output_type": "display_data"
    }
   ],
   "source": [
    "# IMCI pos neg with screen 9.27\n",
    "nErrors = [np.sqrt(nWRINN_error) , np.sqrt(nGAIN_error) , \n",
    "             np.sqrt(nnMIWAE_error),\n",
    "           np.sqrt(nmida_error) ,# np.sqrt(nmean_error) ,\n",
    "           np.sqrt(nmice_error)] \n",
    "\n",
    "#set.ylim(0, .005)   \n",
    "fig = plt.figure (figsize = (5,4))\n",
    "ax = fig.add_axes([0, 0, 1, 1])\n",
    " \n",
    "bp = ax.boxplot(nErrors)\n",
    "ax.set_xticklabels(['GRWINN', 'GAIN', 'not-MIWAE', \n",
    "                    'MIDA', #'mean',\n",
    "                    'MICE'])     \n",
    "# show plot\n",
    "plt.show()"
   ]
  },
  {
   "cell_type": "code",
   "execution_count": 204,
   "id": "cfeaa641",
   "metadata": {
    "scrolled": true
   },
   "outputs": [
    {
     "name": "stderr",
     "output_type": "stream",
     "text": [
      "100%|██████████| 299/299 [00:08<00:00, 33.86it/s]\n",
      "100%|██████████| 500/500 [00:01<00:00, 288.24it/s]\n",
      "C:\\Users\\xiaoming\\Desktop\\makr he\\GRWAIN\\py_other_methods\\notMIWAE-master\\runnotMIWAE.py:65: DeprecationWarning: `np.float` is a deprecated alias for the builtin `float`. To silence this warning, use `float` by itself. Doing this will not modify any behavior and is safe. If you specifically wanted the numpy scalar type, use `np.float64` here.\n",
      "Deprecated in NumPy 1.20; for more details and guidance: https://numpy.org/devdocs/release/1.20.0-notes.html#deprecations\n",
      "  S = np.array(~np.isnan(data_x), dtype=np.float)\n"
     ]
    },
    {
     "name": "stdout",
     "output_type": "stream",
     "text": [
      "Creating graph...\n",
      "Saving session...\n",
      "Saving session...\n",
      "0/100 updates, 0.22 s, 131.80 train_loss, 132.30 val_loss\n",
      "0 / 300\n",
      "Size index: [100]\n",
      "\n",
      "Computation graph constructed\n",
      "\n",
      "Model initialised\n",
      "\n",
      "Epoch: 0 , loss: 25.699333720737034\n",
      "Epoch: 1 , loss: 24.67433961232503\n",
      "Epoch: 2 , loss: 24.034640418158638\n",
      "Epoch: 3 , loss: 23.43054485321045\n",
      "Epoch: 4 , loss: 22.727471987406414\n",
      "Epoch: 5 , loss: 22.03798007965088\n",
      "Epoch: 6 , loss: 21.228334850735134\n",
      "Epoch: 7 , loss: 20.00999821556939\n",
      "Epoch: 8 , loss: 18.70431571536594\n",
      "Epoch: 9 , loss: 17.4529144499037\n",
      "Training complete. Saving file...\n",
      "Model saved in file: tmp/MIDAS\n",
      "INFO:tensorflow:Restoring parameters from tmp/MIDAS\n",
      "Model restored.\n"
     ]
    },
    {
     "name": "stderr",
     "output_type": "stream",
     "text": [
      "100%|██████████| 299/299 [00:08<00:00, 34.88it/s]\n",
      "100%|██████████| 500/500 [00:01<00:00, 301.96it/s]\n",
      "C:\\Users\\xiaoming\\Desktop\\makr he\\GRWAIN\\py_other_methods\\notMIWAE-master\\runnotMIWAE.py:65: DeprecationWarning: `np.float` is a deprecated alias for the builtin `float`. To silence this warning, use `float` by itself. Doing this will not modify any behavior and is safe. If you specifically wanted the numpy scalar type, use `np.float64` here.\n",
      "Deprecated in NumPy 1.20; for more details and guidance: https://numpy.org/devdocs/release/1.20.0-notes.html#deprecations\n",
      "  S = np.array(~np.isnan(data_x), dtype=np.float)\n"
     ]
    },
    {
     "name": "stdout",
     "output_type": "stream",
     "text": [
      "Creating graph...\n",
      "Saving session...\n",
      "Saving session...\n",
      "0/100 updates, 0.21 s, 134.29 train_loss, 133.86 val_loss\n",
      "0 / 300\n",
      "Size index: [100]\n",
      "\n",
      "Computation graph constructed\n",
      "\n",
      "Model initialised\n",
      "\n",
      "Epoch: 0 , loss: 26.304694811503094\n",
      "Epoch: 1 , loss: 25.272055202060276\n",
      "Epoch: 2 , loss: 24.663211716545952\n",
      "Epoch: 3 , loss: 24.03121429019504\n",
      "Epoch: 4 , loss: 23.298179308573406\n",
      "Epoch: 5 , loss: 22.631072150336372\n",
      "Epoch: 6 , loss: 21.740084436204697\n",
      "Epoch: 7 , loss: 20.250951449076336\n",
      "Epoch: 8 , loss: 18.893550448947483\n",
      "Epoch: 9 , loss: 17.67323896620009\n",
      "Training complete. Saving file...\n",
      "Model saved in file: tmp/MIDAS\n",
      "INFO:tensorflow:Restoring parameters from tmp/MIDAS\n",
      "Model restored.\n"
     ]
    },
    {
     "name": "stderr",
     "output_type": "stream",
     "text": [
      "100%|██████████| 299/299 [00:08<00:00, 33.29it/s]\n",
      "100%|██████████| 500/500 [00:01<00:00, 291.38it/s]\n",
      "C:\\Users\\xiaoming\\Desktop\\makr he\\GRWAIN\\py_other_methods\\notMIWAE-master\\runnotMIWAE.py:65: DeprecationWarning: `np.float` is a deprecated alias for the builtin `float`. To silence this warning, use `float` by itself. Doing this will not modify any behavior and is safe. If you specifically wanted the numpy scalar type, use `np.float64` here.\n",
      "Deprecated in NumPy 1.20; for more details and guidance: https://numpy.org/devdocs/release/1.20.0-notes.html#deprecations\n",
      "  S = np.array(~np.isnan(data_x), dtype=np.float)\n"
     ]
    },
    {
     "name": "stdout",
     "output_type": "stream",
     "text": [
      "Creating graph...\n",
      "Saving session...\n",
      "Saving session...\n",
      "0/100 updates, 0.24 s, 133.74 train_loss, 132.65 val_loss\n",
      "0 / 300\n",
      "Size index: [100]\n",
      "\n",
      "Computation graph constructed\n",
      "\n",
      "Model initialised\n",
      "\n",
      "Epoch: 0 , loss: 25.395203484429253\n",
      "Epoch: 1 , loss: 24.449179225497776\n",
      "Epoch: 2 , loss: 23.77740266587999\n",
      "Epoch: 3 , loss: 23.224716822306316\n",
      "Epoch: 4 , loss: 22.526821030510796\n",
      "Epoch: 5 , loss: 21.84890545739068\n",
      "Epoch: 6 , loss: 21.12532965342204\n",
      "Epoch: 7 , loss: 19.850784301757812\n",
      "Epoch: 8 , loss: 18.629964086744522\n",
      "Epoch: 9 , loss: 17.391684850056965\n",
      "Training complete. Saving file...\n",
      "Model saved in file: tmp/MIDAS\n",
      "INFO:tensorflow:Restoring parameters from tmp/MIDAS\n",
      "Model restored.\n"
     ]
    },
    {
     "name": "stderr",
     "output_type": "stream",
     "text": [
      "100%|██████████| 299/299 [00:08<00:00, 34.63it/s]\n",
      "100%|██████████| 500/500 [00:01<00:00, 284.31it/s]\n",
      "C:\\Users\\xiaoming\\Desktop\\makr he\\GRWAIN\\py_other_methods\\notMIWAE-master\\runnotMIWAE.py:65: DeprecationWarning: `np.float` is a deprecated alias for the builtin `float`. To silence this warning, use `float` by itself. Doing this will not modify any behavior and is safe. If you specifically wanted the numpy scalar type, use `np.float64` here.\n",
      "Deprecated in NumPy 1.20; for more details and guidance: https://numpy.org/devdocs/release/1.20.0-notes.html#deprecations\n",
      "  S = np.array(~np.isnan(data_x), dtype=np.float)\n"
     ]
    },
    {
     "name": "stdout",
     "output_type": "stream",
     "text": [
      "Creating graph...\n",
      "Saving session...\n",
      "Saving session...\n",
      "0/100 updates, 0.21 s, 133.40 train_loss, 132.66 val_loss\n",
      "0 / 300\n",
      "Size index: [100]\n",
      "\n",
      "Computation graph constructed\n",
      "\n",
      "Model initialised\n",
      "\n",
      "Epoch: 0 , loss: 25.704893112182617\n",
      "Epoch: 1 , loss: 24.687881151835125\n",
      "Epoch: 2 , loss: 23.961974885728623\n",
      "Epoch: 3 , loss: 23.348269356621635\n",
      "Epoch: 4 , loss: 22.735083474053276\n",
      "Epoch: 5 , loss: 22.017309612698025\n",
      "Epoch: 6 , loss: 21.105736626519096\n",
      "Epoch: 7 , loss: 19.679271592034233\n",
      "Epoch: 8 , loss: 18.461265987820095\n",
      "Epoch: 9 , loss: 17.2098200056288\n",
      "Training complete. Saving file...\n",
      "Model saved in file: tmp/MIDAS\n",
      "INFO:tensorflow:Restoring parameters from tmp/MIDAS\n",
      "Model restored.\n"
     ]
    },
    {
     "name": "stderr",
     "output_type": "stream",
     "text": [
      "100%|██████████| 299/299 [00:08<00:00, 34.82it/s]\n",
      "100%|██████████| 500/500 [00:01<00:00, 292.22it/s]\n",
      "C:\\Users\\xiaoming\\Desktop\\makr he\\GRWAIN\\py_other_methods\\notMIWAE-master\\runnotMIWAE.py:65: DeprecationWarning: `np.float` is a deprecated alias for the builtin `float`. To silence this warning, use `float` by itself. Doing this will not modify any behavior and is safe. If you specifically wanted the numpy scalar type, use `np.float64` here.\n",
      "Deprecated in NumPy 1.20; for more details and guidance: https://numpy.org/devdocs/release/1.20.0-notes.html#deprecations\n",
      "  S = np.array(~np.isnan(data_x), dtype=np.float)\n"
     ]
    },
    {
     "name": "stdout",
     "output_type": "stream",
     "text": [
      "Creating graph...\n",
      "Saving session...\n",
      "Saving session...\n",
      "0/100 updates, 0.20 s, 133.03 train_loss, 133.19 val_loss\n",
      "0 / 300\n",
      "Size index: [100]\n",
      "\n",
      "Computation graph constructed\n",
      "\n",
      "Model initialised\n",
      "\n",
      "Epoch: 0 , loss: 25.815949969821506\n",
      "Epoch: 1 , loss: 24.837027973598904\n",
      "Epoch: 2 , loss: 24.233074294196236\n",
      "Epoch: 3 , loss: 23.5070858001709\n",
      "Epoch: 4 , loss: 22.93720319535997\n",
      "Epoch: 5 , loss: 22.136109246148003\n",
      "Epoch: 6 , loss: 21.3060237036811\n",
      "Epoch: 7 , loss: 19.901727464463974\n",
      "Epoch: 8 , loss: 18.672158029344345\n",
      "Epoch: 9 , loss: 17.33541753556993\n",
      "Training complete. Saving file...\n",
      "Model saved in file: tmp/MIDAS\n",
      "INFO:tensorflow:Restoring parameters from tmp/MIDAS\n",
      "Model restored.\n"
     ]
    },
    {
     "name": "stderr",
     "output_type": "stream",
     "text": [
      "100%|██████████| 299/299 [00:08<00:00, 33.68it/s]\n",
      "100%|██████████| 500/500 [00:01<00:00, 274.92it/s]\n",
      "C:\\Users\\xiaoming\\Desktop\\makr he\\GRWAIN\\py_other_methods\\notMIWAE-master\\runnotMIWAE.py:65: DeprecationWarning: `np.float` is a deprecated alias for the builtin `float`. To silence this warning, use `float` by itself. Doing this will not modify any behavior and is safe. If you specifically wanted the numpy scalar type, use `np.float64` here.\n",
      "Deprecated in NumPy 1.20; for more details and guidance: https://numpy.org/devdocs/release/1.20.0-notes.html#deprecations\n",
      "  S = np.array(~np.isnan(data_x), dtype=np.float)\n"
     ]
    },
    {
     "name": "stdout",
     "output_type": "stream",
     "text": [
      "Creating graph...\n",
      "Saving session...\n",
      "Saving session...\n",
      "0/100 updates, 0.25 s, 135.48 train_loss, 134.24 val_loss\n",
      "0 / 300\n",
      "Size index: [100]\n",
      "\n",
      "Computation graph constructed\n",
      "\n",
      "Model initialised\n",
      "\n",
      "Epoch: 0 , loss: 25.907327546013725\n",
      "Epoch: 1 , loss: 25.115606202019585\n",
      "Epoch: 2 , loss: 24.400713178846573\n",
      "Epoch: 3 , loss: 23.756322436862522\n",
      "Epoch: 4 , loss: 23.049923155042862\n",
      "Epoch: 5 , loss: 22.3452214135064\n",
      "Epoch: 6 , loss: 21.475088119506836\n",
      "Epoch: 7 , loss: 19.988447189331055\n",
      "Epoch: 8 , loss: 18.740243275960285\n",
      "Epoch: 9 , loss: 17.51715766059028\n",
      "Training complete. Saving file...\n",
      "Model saved in file: tmp/MIDAS\n",
      "INFO:tensorflow:Restoring parameters from tmp/MIDAS\n",
      "Model restored.\n"
     ]
    },
    {
     "name": "stderr",
     "output_type": "stream",
     "text": [
      "100%|██████████| 299/299 [00:08<00:00, 33.26it/s]\n",
      "100%|██████████| 500/500 [00:01<00:00, 266.23it/s]\n",
      "C:\\Users\\xiaoming\\Desktop\\makr he\\GRWAIN\\py_other_methods\\notMIWAE-master\\runnotMIWAE.py:65: DeprecationWarning: `np.float` is a deprecated alias for the builtin `float`. To silence this warning, use `float` by itself. Doing this will not modify any behavior and is safe. If you specifically wanted the numpy scalar type, use `np.float64` here.\n",
      "Deprecated in NumPy 1.20; for more details and guidance: https://numpy.org/devdocs/release/1.20.0-notes.html#deprecations\n",
      "  S = np.array(~np.isnan(data_x), dtype=np.float)\n"
     ]
    },
    {
     "name": "stdout",
     "output_type": "stream",
     "text": [
      "Creating graph...\n",
      "Saving session...\n",
      "Saving session...\n",
      "0/100 updates, 0.25 s, 133.07 train_loss, 133.10 val_loss\n",
      "0 / 300\n",
      "Size index: [100]\n",
      "\n",
      "Computation graph constructed\n",
      "\n",
      "Model initialised\n",
      "\n",
      "Epoch: 0 , loss: 25.918258772956\n",
      "Epoch: 1 , loss: 25.009474754333496\n",
      "Epoch: 2 , loss: 24.366833262973362\n",
      "Epoch: 3 , loss: 23.711686664157444\n",
      "Epoch: 4 , loss: 23.027391751607258\n",
      "Epoch: 5 , loss: 22.332870483398438\n",
      "Epoch: 6 , loss: 21.528324762980144\n",
      "Epoch: 7 , loss: 20.287407451205784\n",
      "Epoch: 8 , loss: 18.95149188571506\n",
      "Epoch: 9 , loss: 17.82655514611138\n",
      "Training complete. Saving file...\n",
      "Model saved in file: tmp/MIDAS\n",
      "INFO:tensorflow:Restoring parameters from tmp/MIDAS\n",
      "Model restored.\n"
     ]
    },
    {
     "name": "stderr",
     "output_type": "stream",
     "text": [
      "100%|██████████| 299/299 [00:08<00:00, 35.34it/s]\n",
      "100%|██████████| 500/500 [00:01<00:00, 295.19it/s]\n",
      "C:\\Users\\xiaoming\\Desktop\\makr he\\GRWAIN\\py_other_methods\\notMIWAE-master\\runnotMIWAE.py:65: DeprecationWarning: `np.float` is a deprecated alias for the builtin `float`. To silence this warning, use `float` by itself. Doing this will not modify any behavior and is safe. If you specifically wanted the numpy scalar type, use `np.float64` here.\n",
      "Deprecated in NumPy 1.20; for more details and guidance: https://numpy.org/devdocs/release/1.20.0-notes.html#deprecations\n",
      "  S = np.array(~np.isnan(data_x), dtype=np.float)\n"
     ]
    },
    {
     "name": "stdout",
     "output_type": "stream",
     "text": [
      "Creating graph...\n",
      "Saving session...\n",
      "Saving session...\n",
      "0/100 updates, 0.21 s, 134.37 train_loss, 133.36 val_loss\n",
      "0 / 300\n",
      "Size index: [100]\n",
      "\n",
      "Computation graph constructed\n",
      "\n",
      "Model initialised\n",
      "\n",
      "Epoch: 0 , loss: 25.492020395067\n",
      "Epoch: 1 , loss: 24.616275045606827\n",
      "Epoch: 2 , loss: 23.918102476331924\n",
      "Epoch: 3 , loss: 23.31866391499837\n",
      "Epoch: 4 , loss: 22.636099179585774\n",
      "Epoch: 5 , loss: 21.919970088534885\n",
      "Epoch: 6 , loss: 21.17975966135661\n",
      "Epoch: 7 , loss: 19.887787712944878\n",
      "Epoch: 8 , loss: 18.686342345343697\n",
      "Epoch: 9 , loss: 17.45552698771159\n",
      "Training complete. Saving file...\n",
      "Model saved in file: tmp/MIDAS\n",
      "INFO:tensorflow:Restoring parameters from tmp/MIDAS\n",
      "Model restored.\n"
     ]
    },
    {
     "name": "stderr",
     "output_type": "stream",
     "text": [
      "100%|██████████| 299/299 [00:08<00:00, 33.96it/s]\n",
      "100%|██████████| 500/500 [00:01<00:00, 281.66it/s]\n",
      "C:\\Users\\xiaoming\\Desktop\\makr he\\GRWAIN\\py_other_methods\\notMIWAE-master\\runnotMIWAE.py:65: DeprecationWarning: `np.float` is a deprecated alias for the builtin `float`. To silence this warning, use `float` by itself. Doing this will not modify any behavior and is safe. If you specifically wanted the numpy scalar type, use `np.float64` here.\n",
      "Deprecated in NumPy 1.20; for more details and guidance: https://numpy.org/devdocs/release/1.20.0-notes.html#deprecations\n",
      "  S = np.array(~np.isnan(data_x), dtype=np.float)\n"
     ]
    },
    {
     "name": "stdout",
     "output_type": "stream",
     "text": [
      "Creating graph...\n",
      "Saving session...\n",
      "Saving session...\n",
      "0/100 updates, 0.25 s, 133.12 train_loss, 133.64 val_loss\n",
      "0 / 300\n",
      "Size index: [100]\n",
      "\n",
      "Computation graph constructed\n",
      "\n",
      "Model initialised\n",
      "\n",
      "Epoch: 0 , loss: 25.58476776546902\n",
      "Epoch: 1 , loss: 24.60476589202881\n",
      "Epoch: 2 , loss: 23.8818941116333\n",
      "Epoch: 3 , loss: 23.377687984042698\n",
      "Epoch: 4 , loss: 22.62708526187473\n",
      "Epoch: 5 , loss: 21.939963870578342\n",
      "Epoch: 6 , loss: 21.187475204467773\n",
      "Epoch: 7 , loss: 19.823760350545246\n",
      "Epoch: 8 , loss: 18.66454103257921\n",
      "Epoch: 9 , loss: 17.42064168718126\n",
      "Training complete. Saving file...\n",
      "Model saved in file: tmp/MIDAS\n",
      "INFO:tensorflow:Restoring parameters from tmp/MIDAS\n",
      "Model restored.\n"
     ]
    },
    {
     "name": "stderr",
     "output_type": "stream",
     "text": [
      "100%|██████████| 299/299 [00:08<00:00, 34.16it/s]\n",
      "100%|██████████| 500/500 [00:01<00:00, 285.92it/s]\n",
      "C:\\Users\\xiaoming\\Desktop\\makr he\\GRWAIN\\py_other_methods\\notMIWAE-master\\runnotMIWAE.py:65: DeprecationWarning: `np.float` is a deprecated alias for the builtin `float`. To silence this warning, use `float` by itself. Doing this will not modify any behavior and is safe. If you specifically wanted the numpy scalar type, use `np.float64` here.\n",
      "Deprecated in NumPy 1.20; for more details and guidance: https://numpy.org/devdocs/release/1.20.0-notes.html#deprecations\n",
      "  S = np.array(~np.isnan(data_x), dtype=np.float)\n"
     ]
    },
    {
     "name": "stdout",
     "output_type": "stream",
     "text": [
      "Creating graph...\n",
      "Saving session...\n",
      "Saving session...\n",
      "0/100 updates, 0.22 s, 132.71 train_loss, 132.85 val_loss\n",
      "0 / 300\n",
      "Size index: [100]\n",
      "\n",
      "Computation graph constructed\n",
      "\n",
      "Model initialised\n",
      "\n",
      "Epoch: 0 , loss: 26.24133841196696\n",
      "Epoch: 1 , loss: 25.239277521769207\n",
      "Epoch: 2 , loss: 24.60762733883328\n",
      "Epoch: 3 , loss: 23.92685381571452\n",
      "Epoch: 4 , loss: 23.266277843051487\n",
      "Epoch: 5 , loss: 22.54230848948161\n",
      "Epoch: 6 , loss: 21.627764172024197\n",
      "Epoch: 7 , loss: 20.156620237562393\n",
      "Epoch: 8 , loss: 18.898326873779297\n",
      "Epoch: 9 , loss: 17.630330403645832\n",
      "Training complete. Saving file...\n",
      "Model saved in file: tmp/MIDAS\n",
      "INFO:tensorflow:Restoring parameters from tmp/MIDAS\n",
      "Model restored.\n"
     ]
    }
   ],
   "source": [
    "# GRIN and \n",
    "for k in range(0,L):    \n",
    "    #Xna = make_missing_halfIM80 (X_skew)\n",
    "    Xna = (np.array(pd.read_csv(fnames[k], header = None)))\n",
    "    X_tru = (np.array(pd.read_csv(fnames_true[k], header = None)))\n",
    "    Xna[Xna== -99] = np.nan\n",
    "    \n",
    "    Xnna,nask_param = normalization(Xna)\n",
    "    Mask = 1 - np.isnan(Xna)\n",
    "    G_impu = GRWAIN  (Xnna.copy(), Mask,{'batch_size': round( np.shape(Xnna)[0]/4),  \n",
    "                                    'iterations':300}, 100)\n",
    "    xhat_record = G_impu[1]\n",
    "    GRIN_fit = np.mean(xhat_record, axis=0)\n",
    "    #GRIN_fit = (np.mean(xhat_record, axis=0) +  GRWINN_impu[0])/2\n",
    "    \n",
    "    Imp = IterativeImputer(max_iter=15, random_state=0)    \n",
    "    Imp.fit( Xna )\n",
    "    mice_impu = Imp.transform( Xna )\n",
    "    mean_imp = SimpleImputer(missing_values=np.nan, strategy='mean')\n",
    "    mean_imp.fit(Xna)\n",
    "    mean_impu = mean_imp.transform( Xna)\n",
    "\n",
    "    Gain_fit = (runGain_direct ( Xna ,  round( np.shape(Xna)[0]/4), 100, 500 ) ) # 2 = batchsize, 3 =alpha\n",
    "    nMiwae_fit = run_notMIWAE(    Xna ,n_hidden=8)   \n",
    "    MIDA_fit =  runMida_direct (   Xnna )  \n",
    "     \n",
    "    nWRINN_error[k] =mae(  renormalization( GRIN_fit, nask_param)  ,X_tru) \n",
    "    nGAIN_error[k] = mae(  Gain_fit , X_tru)     \n",
    "    nnMIWAE_error[k]= mae( nMiwae_fit , X_tru)\n",
    "    nmida_error[k] = mae(  renormalization( MIDA_fit ,nask_param )  , X_tru)\n",
    "    nmice_error[k] = mae(mice_impu , X_tru)\n",
    "    nmean_error[k] = mae( mean_impu   ,X_tru)"
   ]
  },
  {
   "cell_type": "code",
   "execution_count": 163,
   "id": "7ae42d46-ef87-40d7-860c-cb66923db95d",
   "metadata": {},
   "outputs": [
    {
     "data": {
      "image/png": "[encoded data removed]",
      "text/plain": [
       "<Figure size 500x400 with 1 Axes>"
      ]
     },
     "metadata": {},
     "output_type": "display_data"
    }
   ],
   "source": [
    "# CI all pos without screen 9.27\n",
    "nErrors = [np.sqrt(nWRINN_error) , np.sqrt(nGAIN_error) , \n",
    "             np.sqrt(nnMIWAE_error),\n",
    "           np.sqrt(nmida_error) ,# np.sqrt(nmean_error) ,\n",
    "           np.sqrt(nmice_error)] \n",
    "\n",
    "#set.ylim(0, .005)   \n",
    "fig = plt.figure (figsize = (5,4))\n",
    "ax = fig.add_axes([0, 0, 1, 1])\n",
    " \n",
    "bp = ax.boxplot(nErrors)\n",
    "ax.set_xticklabels(['GRWINN', 'GAIN', 'not-MIWAE', \n",
    "                    'MIDA', #'mean',\n",
    "                    'MICE'])     \n",
    "# show plot\n",
    "plt.show()"
   ]
  },
  {
   "cell_type": "code",
   "execution_count": 171,
   "id": "123e1654",
   "metadata": {},
   "outputs": [
    {
     "data": {
      "image/png": "[encoded data removed]",
      "text/plain": [
       "<Figure size 500x400 with 1 Axes>"
      ]
     },
     "metadata": {},
     "output_type": "display_data"
    }
   ],
   "source": [
    "# CI posneg without screen 9.27\n",
    "nErrors = [np.sqrt(nWRINN_error) , np.sqrt(nGAIN_error) , \n",
    "             np.sqrt(nnMIWAE_error),\n",
    "           np.sqrt(nmida_error) ,# np.sqrt(nmean_error) ,\n",
    "           np.sqrt(nmice_error)] \n",
    "\n",
    "#set.ylim(0, .005)   \n",
    "fig = plt.figure (figsize = (5,4))\n",
    "ax = fig.add_axes([0, 0, 1, 1])\n",
    " \n",
    "bp = ax.boxplot(nErrors)\n",
    "ax.set_xticklabels(['GRWINN', 'GAIN', 'not-MIWAE', \n",
    "                    'MIDA', #'mean',\n",
    "                    'MICE'])     \n",
    "# show plot\n",
    "plt.show()"
   ]
  },
  {
   "cell_type": "code",
   "execution_count": 197,
   "id": "bdfa51b7",
   "metadata": {},
   "outputs": [
    {
     "data": {
      "image/png": "[encoded data removed]",
      "text/plain": [
       "<Figure size 500x400 with 1 Axes>"
      ]
     },
     "metadata": {},
     "output_type": "display_data"
    }
   ],
   "source": [
    "# IMCI all pos without screen 9.27\n",
    "nErrors = [np.sqrt(nWRINN_error) , np.sqrt(nGAIN_error) , \n",
    "             np.sqrt(nnMIWAE_error),\n",
    "           np.sqrt(nmida_error) ,# np.sqrt(nmean_error) ,\n",
    "           np.sqrt(nmice_error)] \n",
    "\n",
    "#set.ylim(0, .005)   \n",
    "fig = plt.figure (figsize = (5,4))\n",
    "ax = fig.add_axes([0, 0, 1, 1])\n",
    " \n",
    "bp = ax.boxplot(nErrors)\n",
    "ax.set_xticklabels(['GRWINN', 'GAIN', 'not-MIWAE', \n",
    "                    'MIDA', #'mean',\n",
    "                    'MICE'])     \n",
    "# show plot\n",
    "plt.show()"
   ]
  },
  {
   "cell_type": "code",
   "execution_count": 205,
   "id": "07552a5f",
   "metadata": {},
   "outputs": [
    {
     "data": {
      "image/png": "[encoded data removed]",
      "text/plain": [
       "<Figure size 500x400 with 1 Axes>"
      ]
     },
     "metadata": {},
     "output_type": "display_data"
    }
   ],
   "source": [
    "# IMCI posneg without screen 9.27\n",
    "nErrors = [np.sqrt(nWRINN_error) , np.sqrt(nGAIN_error) , \n",
    "             np.sqrt(nnMIWAE_error),\n",
    "           np.sqrt(nmida_error) ,# np.sqrt(nmean_error) ,\n",
    "           np.sqrt(nmice_error)] \n",
    "\n",
    "#set.ylim(0, .005)   \n",
    "fig = plt.figure (figsize = (5,4))\n",
    "ax = fig.add_axes([0, 0, 1, 1])\n",
    " \n",
    "bp = ax.boxplot(nErrors)\n",
    "ax.set_xticklabels(['GRWINN', 'GAIN', 'not-MIWAE', \n",
    "                    'MIDA', #'mean',\n",
    "                    'MICE'])     \n",
    "# show plot\n",
    "plt.show()"
   ]
  },
  {
   "cell_type": "code",
   "execution_count": null,
   "id": "add5ba84",
   "metadata": {},
   "outputs": [],
   "source": []
  },
  {
   "cell_type": "code",
   "execution_count": null,
   "id": "dd98874d",
   "metadata": {},
   "outputs": [],
   "source": []
  },
  {
   "cell_type": "code",
   "execution_count": null,
   "id": "ab7bfc85",
   "metadata": {},
   "outputs": [],
   "source": []
  },
  {
   "cell_type": "code",
   "execution_count": null,
   "id": "77d16aa2",
   "metadata": {},
   "outputs": [],
   "source": [
    "# CI with screen\n",
    "nErrors = [np.sqrt(nWRINN_error) , np.sqrt(nGAIN_error) , \n",
    "             np.sqrt(nnMIWAE_error),\n",
    "           np.sqrt(nmida_error) ,# np.sqrt(nmean_error) ,\n",
    "           np.sqrt(nmice_error)] \n",
    "\n",
    "#set.ylim(0, .005)   \n",
    "fig = plt.figure (figsize = (5,4))\n",
    "ax = fig.add_axes([0, 0, 1, 1])\n",
    " \n",
    "bp = ax.boxplot(nErrors)\n",
    "ax.set_xticklabels(['GRWINN', 'GAIN', 'not-MIWAE', \n",
    "                    'MIDA', #'mean',\n",
    "                    'MICE'])     \n",
    "# show plot\n",
    "plt.show()"
   ]
  },
  {
   "cell_type": "code",
   "execution_count": 35,
   "id": "c72743c9",
   "metadata": {},
   "outputs": [
    {
     "data": {
      "image/png": "[encoded data removed]",
      "text/plain": [
       "<Figure size 500x400 with 1 Axes>"
      ]
     },
     "metadata": {},
     "output_type": "display_data"
    }
   ],
   "source": [
    "#IMa\n",
    "nErrors = [np.sqrt(nWRINN_error) , np.sqrt(nGAIN_error) , \n",
    "             np.sqrt(nnMIWAE_error),\n",
    "           np.sqrt(nmida_error) ,# np.sqrt(nmean_error) ,\n",
    "           np.sqrt(nmice_error)] \n",
    "\n",
    "#set.ylim(0, .005)   \n",
    "fig = plt.figure (figsize = (5,4))\n",
    "ax = fig.add_axes([0, 0, 1, 1])\n",
    " \n",
    "bp = ax.boxplot(nErrors)\n",
    "ax.set_xticklabels(['GRWINN', 'GAIN', 'not-MIWAE', \n",
    "                    'MIDA', #'mean',\n",
    "                    'MICE'])     \n",
    "# show plot\n",
    "plt.show()"
   ]
  },
  {
   "cell_type": "code",
   "execution_count": 19,
   "id": "17083e01",
   "metadata": {},
   "outputs": [
    {
     "data": {
      "image/png": "[encoded data removed]",
      "text/plain": [
       "<Figure size 500x400 with 1 Axes>"
      ]
     },
     "metadata": {},
     "output_type": "display_data"
    }
   ],
   "source": [
    "#IM T\n",
    "\n",
    "## not converge\n",
    "nErrors = [np.sqrt(nWRINN_error) , np.sqrt(nGAIN_error) , \n",
    "             np.sqrt(nnMIWAE_error),\n",
    "           np.sqrt(nmida_error) ,# np.sqrt(nmean_error) ,\n",
    "           np.sqrt(nmice_error)] \n",
    "\n",
    "#set.ylim(0, .005)   \n",
    "fig = plt.figure (figsize = (5,4))\n",
    "ax = fig.add_axes([0, 0, 1, 1])\n",
    " \n",
    "bp = ax.boxplot(nErrors)\n",
    "ax.set_xticklabels(['GRWINN', 'GAIN', 'not-MIWAE', \n",
    "                    'MIDA', #'mean',\n",
    "                    'MICE'])     \n",
    "# show plot\n",
    "plt.show()"
   ]
  },
  {
   "cell_type": "code",
   "execution_count": 25,
   "id": "82b8358a",
   "metadata": {},
   "outputs": [
    {
     "data": {
      "image/png": "[encoded data removed]",
      "text/plain": [
       "<Figure size 500x400 with 1 Axes>"
      ]
     },
     "metadata": {},
     "output_type": "display_data"
    }
   ],
   "source": [
    "#IM cauchy\n",
    "nErrors = [np.sqrt(nWRINN_error) , np.sqrt(nGAIN_error) , \n",
    "             np.sqrt(nnMIWAE_error),\n",
    "           np.sqrt(nmida_error) ,# np.sqrt(nmean_error) ,\n",
    "           np.sqrt(nmice_error)] \n",
    "\n",
    "#set.ylim(0, .005)   \n",
    "fig = plt.figure (figsize = (5,4))\n",
    "ax = fig.add_axes([0, 0, 1, 1])\n",
    " \n",
    "bp = ax.boxplot(nErrors)\n",
    "ax.set_xticklabels(['GRWINN', 'GAIN', 'not-MIWAE', \n",
    "                    'MIDA', #'mean',\n",
    "                    'MICE'])     \n",
    "# show plot\n",
    "plt.show()"
   ]
  },
  {
   "cell_type": "code",
   "execution_count": 11,
   "id": "1141396f",
   "metadata": {},
   "outputs": [
    {
     "data": {
      "image/png": "[encoded data removed]",
      "text/plain": [
       "<Figure size 500x400 with 1 Axes>"
      ]
     },
     "metadata": {},
     "output_type": "display_data"
    }
   ],
   "source": [
    "#true CI 50\n",
    "nErrors = [np.sqrt(nWRINN_error) , np.sqrt(nGAIN_error) , \n",
    "             np.sqrt(nnMIWAE_error),\n",
    "           np.sqrt(nmida_error) ,# np.sqrt(nmean_error) ,\n",
    "           np.sqrt(nmice_error)] \n",
    "\n",
    "#set.ylim(0, .005)   \n",
    "fig = plt.figure (figsize = (5,4))\n",
    "ax = fig.add_axes([0, 0, 1, 1])\n",
    " \n",
    "bp = ax.boxplot(nErrors)\n",
    "ax.set_xticklabels(['GRWINN', 'GAIN', 'not-MIWAE', \n",
    "                    'MIDA', #'mean',\n",
    "                    'MICE'])     \n",
    "# show plot\n",
    "plt.show()"
   ]
  },
  {
   "cell_type": "code",
   "execution_count": 24,
   "id": "a6b6cb50",
   "metadata": {},
   "outputs": [
    {
     "data": {
      "image/png": "[encoded data removed]",
      "text/plain": [
       "<Figure size 500x400 with 1 Axes>"
      ]
     },
     "metadata": {},
     "output_type": "display_data"
    }
   ],
   "source": [
    "#GRWINN_3D-a\n",
    "nErrors = [np.sqrt(nWRINN_error) , np.sqrt(nGAIN_error) , \n",
    "             np.sqrt(nnMIWAE_error),\n",
    "           np.sqrt(nmida_error) ,# np.sqrt(nmean_error) ,\n",
    "           np.sqrt(nmice_error)] \n",
    "\n",
    "#set.ylim(0, .005)   \n",
    "fig = plt.figure (figsize = (5,4))\n",
    "ax = fig.add_axes([0, 0, 1, 1])\n",
    " \n",
    "bp = ax.boxplot(nErrors)\n",
    "ax.set_xticklabels(['GRWINN', 'GAIN', 'not-MIWAE', \n",
    "                    'MIDA', #'mean',\n",
    "                    'MICE'])     \n",
    "# show plot\n",
    "plt.show()"
   ]
  },
  {
   "cell_type": "code",
   "execution_count": 42,
   "id": "1491b024-3451-4e59-ac7e-bd156a5c5970",
   "metadata": {},
   "outputs": [],
   "source": [
    "nErrors1 = nErrors"
   ]
  },
  {
   "cell_type": "code",
   "execution_count": null,
   "id": "f0ac51f4-28ee-4a94-8e8b-4c979d2e26a0",
   "metadata": {},
   "outputs": [],
   "source": [
    "from scipy.stats import wasserstein_distance\n",
    "len(GRIN_log[3])"
   ]
  },
  {
   "cell_type": "code",
   "execution_count": null,
   "id": "80a1878e-54f7-4341-a656-a83437c963e4",
   "metadata": {},
   "outputs": [],
   "source": [
    "10/1.5"
   ]
  },
  {
   "cell_type": "code",
   "execution_count": null,
   "id": "85a47eef-8dcb-4588-838e-a8bcf2faaef9",
   "metadata": {},
   "outputs": [],
   "source": []
  },
  {
   "cell_type": "code",
   "execution_count": null,
   "id": "d8c8c65b-3419-4887-9363-adff5499001e",
   "metadata": {},
   "outputs": [],
   "source": []
  },
  {
   "cell_type": "code",
   "execution_count": null,
   "id": "8b367b85-3d4a-4af0-b064-d9ad8ed4eff3",
   "metadata": {},
   "outputs": [],
   "source": []
  },
  {
   "cell_type": "code",
   "execution_count": null,
   "id": "a42bef4a-8112-4432-b25a-661bafdd82c7",
   "metadata": {},
   "outputs": [],
   "source": [
    "#'GRIN'+'4'+'.csv'\n",
    "os.mkdir('C:\\\\Users\\\\markh\\\\Dropbox\\\\Columbia\\\\RWI_GAN_NY\\\\Data\\\\INSIGHT\\\\sample_imputations\\\\MIMIC_missing3_B')\n"
   ]
  },
  {
   "cell_type": "raw",
   "id": "35c0ca0c-b1a0-4f31-b019-fce635b678b2",
   "metadata": {},
   "source": [
    "os.chdir('C:\\\\Users\\\\markh\\\\Dropbox\\\\Columbia\\\\RWI_GAN_NY\\\\Data\\\\INSIGHT\\\\sample_imputations\\\\MIMIC_missing3_B')\n",
    "for k in range(0,1):\n",
    "    np.savetxt('GRIN'+str(k)+'.csv', (GRIN_log[k]), delimiter=\",\")\n",
    "    np.savetxt('GAIN'+str(k)+'.csv' , (Gainlog[k]), delimiter=\",\")\n",
    "    np.savetxt('nMIWAE'+str(k)+'.csv', (nMiwaelog[k]), delimiter=\",\")\n",
    "    np.savetxt('MIDA'+str(k)+'.csv' , (MIDAlog[k]), delimiter=\",\")\n",
    "    np.savetxt('MICE'+str(k)+'.csv' , (micelog[k]), delimiter=\",\")\n",
    "    np.savetxt('Mean'+str(k)+'.csv' , (meanlog[k]), delimiter=\",\")\n",
    "    np.savetxt('Xna'+str(k)+'.csv', Xna, delimiter=\",\")\n"
   ]
  },
  {
   "cell_type": "code",
   "execution_count": null,
   "id": "4af1778a-d0b6-4b3a-8fe2-69e3254159ac",
   "metadata": {},
   "outputs": [],
   "source": [
    "#os.chdir('C:\\\\Users\\\\markh\\\\Dropbox\\\\Columbia\\\\RWI_GAN_NY\\\\Data\\\\INSIGHT\\\\sample_imputations\\\\MIMIC_missing3_multi')\n",
    "np.savetxt('X_n.csv', X_skew, delimiter=\",\")\n"
   ]
  },
  {
   "cell_type": "code",
   "execution_count": null,
   "id": "f97826c4-bdd2-4b83-bef1-7c1dc5394af6",
   "metadata": {},
   "outputs": [],
   "source": []
  },
  {
   "cell_type": "code",
   "execution_count": null,
   "id": "a5205916-653f-45e3-98be-7c8e5ddc600b",
   "metadata": {},
   "outputs": [],
   "source": [
    "\n",
    "os.chdir('C:\\\\Users\\\\markh\\\\Dropbox\\\\Columbia\\\\RWI_GAN_NY\\\\Data\\\\INSIGHT\\\\sample_imputations\\\\MIMIC_missing3')\n",
    "\n",
    "np.savetxt('GRIN.csv', (GRIN_log[2]), delimiter=\",\")\n",
    "np.savetxt('GAIN.csv' , (Gainlog[2]), delimiter=\",\")\n",
    "np.savetxt('nMIWAE.csv', (nMiwaelog[2]), delimiter=\",\")\n",
    "np.savetxt('MIDA.csv' , (MIDAlog[2]), delimiter=\",\")\n",
    "np.savetxt('MICE.csv' , (micelog[2]), delimiter=\",\")\n",
    "np.savetxt('Mean.csv' , (meanlog[2]), delimiter=\",\")\n",
    "\n",
    "np.savetxt('Xna.csv', Xna, delimiter=\",\")\n",
    "np.savetxt('X_n.csv', X_skew, delimiter=\",\")\n"
   ]
  },
  {
   "cell_type": "code",
   "execution_count": null,
   "id": "37ea60c9-7412-4df2-90b8-a54add2432d6",
   "metadata": {},
   "outputs": [],
   "source": [
    "X_tru[0]"
   ]
  },
  {
   "cell_type": "code",
   "execution_count": null,
   "id": "fd199f37-6bfe-4594-9088-fe842d2c2844",
   "metadata": {},
   "outputs": [],
   "source": [
    "X_imp = GRIN_log[0]"
   ]
  },
  {
   "cell_type": "code",
   "execution_count": null,
   "id": "5d95a9bd-5215-46dc-b757-b8a8259ce1db",
   "metadata": {},
   "outputs": [],
   "source": [
    "wasserstein_distance(X_imp[0], X_tru[0], u_weights=None, v_weights=None)[source]\n"
   ]
  },
  {
   "cell_type": "code",
   "execution_count": null,
   "id": "fcc478b0-c830-40e6-90bd-3d625c6e0b90",
   "metadata": {},
   "outputs": [],
   "source": [
    "scipy.stats.wasserstein_distance(u_values, v_values, u_weights=None, v_weights=None)[source]\n"
   ]
  },
  {
   "cell_type": "code",
   "execution_count": null,
   "id": "e3d3565a-96b1-4c3b-a7d1-344dc5d2855f",
   "metadata": {},
   "outputs": [],
   "source": [
    "scipy.stats.wasserstein_distance(u_values, v_values, u_weights=None, v_weights=None)[source]\n"
   ]
  },
  {
   "cell_type": "code",
   "execution_count": null,
   "id": "2769f952-bf96-4d08-8025-c33660bc7787",
   "metadata": {},
   "outputs": [],
   "source": [
    " "
   ]
  },
  {
   "cell_type": "code",
   "execution_count": null,
   "id": "0cd7d36d-e704-4fc4-b22b-5822daacf395",
   "metadata": {},
   "outputs": [],
   "source": [
    "X_n = X_skew"
   ]
  },
  {
   "cell_type": "code",
   "execution_count": null,
   "id": "eaca1aa5-5fcd-44ea-994e-517a4de36f34",
   "metadata": {},
   "outputs": [],
   "source": [
    "L = 4\n",
    "GAIN_error = [0]*L\n",
    "WRINN_error = [0]*L\n",
    "nMIWAE_error = [0]*L\n",
    "mida_error = [0]*L\n",
    "mean_error = [0]*L\n",
    "mice_error = [0]*L\n",
    "\n",
    "for k in range(0,L):    \n",
    "    WRINN_error[k] =mae(GRIN_log[k],X_n) \n",
    "    GAIN_error[k] =mae(Gainlog[k] , X_n)     \n",
    "    nMIWAE_error[k] = mae(nMiwaelog[k], X_n)\n",
    "    mida_error[k] = mae(MIDAlog[k], X_n)\n",
    "    mice_error[k] = mae(micelog[k], X_n)\n",
    "    mean_error[k] = mae(meanlog[k], X_n)"
   ]
  },
  {
   "cell_type": "code",
   "execution_count": null,
   "id": "1866c84f-61ac-47be-ae6d-0182a85a90cf",
   "metadata": {},
   "outputs": [],
   "source": [
    "#Errors = [GRIN_log, Gainlog, nMiwaelog,MIDAlog, meanlog  ,micelog ] \n",
    "Errors = [WRINN_error, GAIN_error, #nMIWAE_error,\n",
    "          mida_error, mean_error, mice_error] \n",
    "#set.ylim(0, .005)   \n",
    "fig = plt.figure (figsize = (5,4))\n",
    "ax = fig.add_axes([0, 0, 1, 1])\n",
    " \n",
    "bp = ax.boxplot(Errors)\n",
    "ax.set_xticklabels(['GRWINN', 'GAIN', #'not-MIWAE', \n",
    "                    'MIDA', 'mean','MICE']) \n",
    "# show plot\n",
    "plt.show()"
   ]
  },
  {
   "cell_type": "code",
   "execution_count": null,
   "id": "8cdb5abe-e5c3-4530-af54-a17c7b3c0742",
   "metadata": {},
   "outputs": [],
   "source": [
    "X_tru = renormalization( X_skew, sk_param)"
   ]
  },
  {
   "cell_type": "markdown",
   "id": "31c9731f-9ff1-4d5c-be1f-6091a064fd80",
   "metadata": {},
   "source": [
    "ORIGINAL - ALL NORMALIZED"
   ]
  },
  {
   "cell_type": "code",
   "execution_count": null,
   "id": "235f87e4-0c8d-4eed-bc3c-f21585bb44f0",
   "metadata": {},
   "outputs": [],
   "source": [
    "for k in range(0,4):    \n",
    "    Xna = make_missing (X_skew)\n",
    "    #Xna = make_missing_3 (X_skew)\n",
    "\n",
    "    Mask = 1 - np.isnan(Xna)\n",
    "\n",
    "    GRWINN_impu = GRWINN_sigmoid  (Xna.copy(), Mask,{'batch_size': round( np.shape(Xna)[0]/4),  \n",
    "                                    'iterations':1000}, 50)\n",
    "    xhat_record = GRWINN_impu[1]\n",
    "    GRIN_fit = np.mean(xhat_record, axis=0)\n",
    "    #GRIN_fit = (np.mean(xhat_record, axis=0) +  GRWINN_impu[0])/2\n",
    "    \n",
    "    \n",
    "    Imp = IterativeImputer(max_iter=15, random_state=0)    \n",
    "    Imp.fit( Xna )\n",
    "    mice_impu = Imp.transform( Xna )\n",
    "    mean_imp = SimpleImputer(missing_values=np.nan, strategy='mean')\n",
    "    mean_imp.fit(Xna)\n",
    "    mean_impu = mean_imp.transform( Xna)\n",
    "\n",
    "    Gain_fit = (runGain_direct ( Xna ,  round( np.shape(Xna)[0]/4), 100, 500 ) ) # 2 = batchsize, 3 =alpha\n",
    "    \n",
    "    nMiwae_fit = run_notMIWAE(    Xna ,n_hidden=8)   \n",
    "    \n",
    "    X_nMida , param_Mida = normalization( Xna  ) # here it is normalized\n",
    "    MIDA_fit =  runMida_direct (   X_nMida )  \n",
    "    MIDA_fit2 = renormalization(MIDA_fit, param_Mida)\n",
    "\n",
    "   # MIDA_fit = (runMida_direct (   Xna )   )\n",
    "    GRIN_log.append( GRIN_fit )\n",
    "    Gainlog.append(  Gain_fit ) \n",
    "    meanlog.append( mean_impu )  \n",
    "    micelog.append( mice_impu)\n",
    "    \n",
    "    nMiwaelog.append( nMiwae_fit )  \n",
    "    MIDAlog.append( MIDA_fit2 )  "
   ]
  },
  {
   "cell_type": "code",
   "execution_count": null,
   "id": "3290f7d8-ec00-48a2-91d6-3a9ac6edd518",
   "metadata": {},
   "outputs": [],
   "source": [
    "#np.shape((GRIN_log[0][:,i], Xna[:,i], X_n[:,i]))\n",
    "verif_i = np.array([GRIN_log[0][:,i], Xna[:,i], X_n[:,i]]).T\n",
    "sub = np.where( 1 - np.isnan(  X_n[:,i] ) )[0]\n",
    "V1 = verif_i [sub, :]\n",
    "V2 = V1[np.where( np.isnan(  V1[:,1] ) )[0]]\n",
    "\n",
    "pd.DataFrame(V2)"
   ]
  },
  {
   "cell_type": "code",
   "execution_count": null,
   "id": "c02be5e2-b02e-48a5-9e03-d588901b2e37",
   "metadata": {},
   "outputs": [],
   "source": []
  },
  {
   "cell_type": "code",
   "execution_count": null,
   "id": "234d8e10-000c-4cf3-a1a4-b6b7cce67248",
   "metadata": {},
   "outputs": [],
   "source": [
    "y_pos = 94\n",
    "Y = Xna[:, y_pos]\n",
    "Y = 1 * np.isnan(Y)\n",
    "index2 = np.isnan(Xna).any(axis=0)\n",
    "removena_X = np.delete(Xna, index2, axis=1)\n",
    "\n",
    "sm_model = sm.GLM(Y, sm.add_constant(removena_X), family=sm.families.Binomial())\n",
    "\n",
    "sm_result = sm_model.fit()\n",
    "\n",
    "sm_result.pvalues\n",
    "\n",
    "sm_model = sm.GLM(Y, sm.add_constant(removena_X), family=sm.families.Binomial())\n",
    "sm_result = sm_model.fit_regularized(method='elastic_net', alpha=0.001, L1_wt=1.0)\n",
    "sm_result.tvalues"
   ]
  },
  {
   "cell_type": "code",
   "execution_count": null,
   "id": "33714471-149e-4372-98aa-566c4ad0afca",
   "metadata": {},
   "outputs": [],
   "source": []
  }
 ],
 "metadata": {
  "kernelspec": {
   "display_name": "Python 3 (ipykernel)",
   "language": "python",
   "name": "python3"
  },
  "language_info": {
   "codemirror_mode": {
    "name": "ipython",
    "version": 3
   },
   "file_extension": ".py",
   "mimetype": "text/x-python",
   "name": "python",
   "nbconvert_exporter": "python",
   "pygments_lexer": "ipython3",
   "version": "3.11.4"
  }
 },
 "nbformat": 4,
 "nbformat_minor": 5
}
